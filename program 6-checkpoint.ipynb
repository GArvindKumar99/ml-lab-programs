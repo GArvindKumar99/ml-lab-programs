{
 "cells": [
  {
   "cell_type": "code",
   "execution_count": 1,
   "metadata": {},
   "outputs": [
    {
     "ename": "SyntaxError",
     "evalue": "EOL while scanning string literal (<ipython-input-1-4f298abc9e51>, line 6)",
     "output_type": "error",
     "traceback": [
      "\u001b[1;36m  File \u001b[1;32m\"<ipython-input-1-4f298abc9e51>\"\u001b[1;36m, line \u001b[1;32m6\u001b[0m\n\u001b[1;33m    msg=pd.read_csv('/Users/Chachu/Documents/PythonScripts/naivetext.csv',names=['message','\u001b[0m\n\u001b[1;37m                                                                                            ^\u001b[0m\n\u001b[1;31mSyntaxError\u001b[0m\u001b[1;31m:\u001b[0m EOL while scanning string literal\n"
     ]
    }
   ],
   "source": [
    "import pandas as pd\n",
    "from sklearn.model_selection import train_test_split\n",
    "from sklearn.feature_extraction.text import CountVectorizer\n",
    "from sklearn.naive_bayes import MultinomialNB\n",
    "from sklearn import metrics\n",
    "msg=pd.read_csv('/Users/Chachu/Documents/PythonScripts/naivetext.csv',names=['message','\n",
    "label'])\n",
    "print('The dimensions of the dataset',msg.shape)\n",
    "msg['labelnum']=msg.label.map({'pos':1,'neg':0})\n",
    "X=msg.message\n",
    "y=msg.labelnum\n",
    "#splitting the dataset into train and test data\n",
    "xtrain,xtest,ytrain,ytest=train_test_split(X,y)\n",
    "print ('\\n the total number of Training Data :',ytrain.shape)\n",
    "print ('\\n the total number of Test Data :',ytest.shape)\n",
    "#output the words or Tokens in the text documents\n",
    "cv = CountVectorizer()\n",
    "xtrain_dtm = cv.fit_transform(xtrain)\n",
    "xtest_dtm=cv.transform(xtest)\n",
    "print('\\n The words or Tokens in the text documents \\n')\n",
    "print(cv.get_feature_names())\n",
    "df=pd.DataFrame(xtrain_dtm.toarray(),columns=cv.get_feature_names())\n",
    "# Training Naive Bayes (NB) classifier on training data.\n",
    "clf = MultinomialNB().fit(xtrain_dtm,ytrain)\n",
    "predicted = clf.predict(xtest_dtm)\n",
    "#printing accuracy, Confusion matrix, Precision and Recall\n",
    "print('\\n Accuracy of the classifier is',metrics.accuracy_score(ytest,predicted))\n",
    "print('\\n Confusion matrix')\n",
    "print(metrics.confusion_matrix(ytest,predicted))\n",
    "print('\\n The value of Precision', metrics.precision_score(ytest,predicted))\n",
    "print('\\n The value of Recall', metrics.recall_score(ytest,predicted))"
   ]
  },
  {
   "cell_type": "code",
   "execution_count": null,
   "metadata": {},
   "outputs": [],
   "source": []
  }
 ],
 "metadata": {
  "kernelspec": {
   "display_name": "Python 3",
   "language": "python",
   "name": "python3"
  },
  "language_info": {
   "codemirror_mode": {
    "name": "ipython",
    "version": 3
   },
   "file_extension": ".py",
   "mimetype": "text/x-python",
   "name": "python",
   "nbconvert_exporter": "python",
   "pygments_lexer": "ipython3",
   "version": "3.8.3"
  }
 },
 "nbformat": 4,
 "nbformat_minor": 4
}
